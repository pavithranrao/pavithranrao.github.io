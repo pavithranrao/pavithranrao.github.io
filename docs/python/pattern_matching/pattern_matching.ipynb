{
 "cells": [
  {
   "cell_type": "markdown",
   "metadata": {},
   "source": [
    "# Pattern Matching in Python\n",
    "\n",
    "[PEP-0636](https://peps.python.org/pep-0636/#matching-sequences)"
   ]
  },
  {
   "cell_type": "markdown",
   "metadata": {},
   "source": [
    "## Matching a python builtin type"
   ]
  },
  {
   "cell_type": "code",
   "execution_count": 4,
   "metadata": {},
   "outputs": [
    {
     "data": {
      "text/plain": [
       "55"
      ]
     },
     "execution_count": 4,
     "metadata": {},
     "output_type": "execute_result"
    }
   ],
   "source": [
    "def fib(n: int):\n",
    "    match n:\n",
    "        case 0:\n",
    "            return 0\n",
    "        case 1:\n",
    "            return 1\n",
    "        case n:\n",
    "            return fib(n - 1) + fib(n - 2)\n",
    "\n",
    "fib(10)\n"
   ]
  },
  {
   "cell_type": "markdown",
   "metadata": {},
   "source": [
    "## Matching a python list"
   ]
  },
  {
   "cell_type": "code",
   "execution_count": 6,
   "metadata": {},
   "outputs": [],
   "source": [
    "def sum_list(xs: list[int]) -> int:\n",
    "    match xs:\n",
    "        case [x]:\n",
    "            return x\n",
    "        case [x, *ys]:\n",
    "            return x + sum_list(ys)\n",
    "\n",
    "assert(\n",
    "    sum_list(list(range(10))) == sum(range(10))\n",
    ")"
   ]
  },
  {
   "cell_type": "markdown",
   "metadata": {},
   "source": [
    "## Matching Python enums"
   ]
  },
  {
   "cell_type": "code",
   "execution_count": 38,
   "metadata": {},
   "outputs": [
    {
     "name": "stdout",
     "output_type": "stream",
     "text": [
      "We are 1 day(s) away from Saturday\n",
      "Yippee it's SATURDAY!\n"
     ]
    }
   ],
   "source": [
    "from datetime import date\n",
    "import enum\n",
    "class Weekday(enum.Enum):\n",
    "    MONDAY = 1\n",
    "    TUESDAY = 2\n",
    "    WEDNESDAY = 3\n",
    "    THURSDAY = 4\n",
    "    FRIDAY = 5\n",
    "    SATURDAY = 6\n",
    "    SUNDAY = 7\n",
    "\n",
    "\n",
    "\n",
    "def is_day_a_weekend(day: Weekday):\n",
    "    match day:\n",
    "        case Weekday.SATURDAY | Weekday.SUNDAY:\n",
    "            print(f\"Yippee it's {day.name}!\")\n",
    "        case _:\n",
    "            print(f\"We are {6 - day.value} day(s) away from Saturday\")\n",
    "\n",
    "is_day_a_weekend(Weekday.FRIDAY)\n",
    "is_day_a_weekend(Weekday.SATURDAY)\n"
   ]
  },
  {
   "cell_type": "markdown",
   "metadata": {},
   "source": [
    "## Matching with multiple predicates and wildcards\n",
    "[Fizz-Buzz program](https://leetcode.com/problems/fizz-buzz/)"
   ]
  },
  {
   "cell_type": "code",
   "execution_count": 9,
   "metadata": {},
   "outputs": [
    {
     "name": "stdout",
     "output_type": "stream",
     "text": [
      "num=10 Buzz\n",
      "num=11 11\n",
      "num=12 Fizz\n",
      "num=13 13\n",
      "num=14 14\n",
      "num=15 FizzBuzz\n"
     ]
    }
   ],
   "source": [
    "def fizz_buzz(n: int) -> str:\n",
    "    \"\"\"\n",
    "    num == \"FizzBuzz\" if num is divisible by 3 and 5.\n",
    "    num == \"Fizz\" if num is divisible by 3.\n",
    "    num == \"Buzz\" if num is divisible by 5.\n",
    "    num == num (as a string) if none of the above conditions are true.\n",
    "\n",
    "    Args:\n",
    "        n (int): A positive integer.\n",
    "\n",
    "    Returns:\n",
    "        str: FizzBUzz string for the num.\n",
    "    \"\"\"\n",
    "    match (n % 3, n % 5):\n",
    "        case (0, 0):\n",
    "            return \"FizzBuzz\"\n",
    "        case (0, _):\n",
    "            return \"Fizz\"\n",
    "        case (_, 0):\n",
    "            return \"Buzz\"\n",
    "        case _:\n",
    "            return str(n)\n",
    "\n",
    "for num in range(10, 16):\n",
    "    print(f\"{num=} {fizz_buzz(num)}\")"
   ]
  },
  {
   "cell_type": "code",
   "execution_count": 11,
   "metadata": {},
   "outputs": [
    {
     "name": "stdout",
     "output_type": "stream",
     "text": [
      "2 4\n"
     ]
    }
   ],
   "source": [
    "from collections import namedtuple\n",
    "Point = namedtuple(\"Point\", \"x y\")\n",
    "point = Point(2, 4)\n",
    "\n",
    "match point:\n",
    "    case Point(x=a, y=b):\n",
    "        print(a, b)\n",
    "    case _:\n",
    "        print(\"nope!\")"
   ]
  },
  {
   "cell_type": "code",
   "execution_count": 19,
   "metadata": {},
   "outputs": [
    {
     "name": "stdout",
     "output_type": "stream",
     "text": [
      "10\n"
     ]
    }
   ],
   "source": [
    "data = {\"b\": 20, \"a\": 10}\n",
    "match data:\n",
    "    case {\"a\": a, **others}:\n",
    "        print(a)\n",
    "    case {\"b\": b, **others}:\n",
    "        print(b)\n",
    "    case _:\n",
    "        print(data)"
   ]
  },
  {
   "cell_type": "code",
   "execution_count": 30,
   "metadata": {},
   "outputs": [
    {
     "name": "stdout",
     "output_type": "stream",
     "text": [
      "18586\n"
     ]
    }
   ],
   "source": [
    "import requests\n",
    "\n",
    "response = requests.get(\"https://pavithranrao.github.io\")\n",
    "match response.status_code:\n",
    "    case 200:\n",
    "        print(len(response.content))\n",
    "    case x if x >= 400:\n",
    "        print(f\"HTTPError: {response.reason}\")\n",
    "    case _:\n",
    "        print(response)"
   ]
  },
  {
   "cell_type": "markdown",
   "metadata": {},
   "source": [
    "## Matching a Python class or dataclass"
   ]
  },
  {
   "cell_type": "code",
   "execution_count": 34,
   "metadata": {},
   "outputs": [
    {
     "name": "stdout",
     "output_type": "stream",
     "text": [
      "Hello, World!\n"
     ]
    }
   ],
   "source": [
    "import dataclasses\n",
    "\n",
    "@dataclasses.dataclass\n",
    "class Command:\n",
    "    command_type: str\n",
    "    command_args: list[str]\n",
    "\n",
    "def perform_fn(command: Command):\n",
    "    match command:\n",
    "        case Command(command_type, command_args) if command_type == \"echo\":\n",
    "            print(command_args[0])\n",
    "        case _:\n",
    "            print(\"unimplemented command!\")\n",
    "\n",
    "echo = Command(\n",
    "    command_type=\"echo\",\n",
    "    command_args=[\"Hello, World!\"]\n",
    ")\n",
    "perform_fn(echo)"
   ]
  },
  {
   "cell_type": "markdown",
   "metadata": {},
   "source": [
    "## End Note"
   ]
  },
  {
   "cell_type": "markdown",
   "metadata": {},
   "source": [
    "I also found these blogs useful:\n",
    "\n",
    "- [Ben Hoyt's Structural pattern matching in Python 3.10](https://benhoyt.com/writings/python-pattern-matching/)\n",
    "- [Inspired Python's Mastering Structural Pattern Matching](https://www.inspiredpython.com/course/pattern-matching/mastering-structural-pattern-matching)"
   ]
  }
 ],
 "metadata": {
  "kernelspec": {
   "display_name": ".venv",
   "language": "python",
   "name": "python3"
  },
  "language_info": {
   "codemirror_mode": {
    "name": "ipython",
    "version": 3
   },
   "file_extension": ".py",
   "mimetype": "text/x-python",
   "name": "python",
   "nbconvert_exporter": "python",
   "pygments_lexer": "ipython3",
   "version": "3.10.13"
  }
 },
 "nbformat": 4,
 "nbformat_minor": 2
}
